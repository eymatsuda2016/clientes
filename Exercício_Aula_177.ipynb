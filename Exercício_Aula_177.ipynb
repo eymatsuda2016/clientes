{
  "nbformat": 4,
  "nbformat_minor": 0,
  "metadata": {
    "colab": {
      "provenance": [],
      "authorship_tag": "ABX9TyN9fTdMYBu99onS6xj5zuGe",
      "include_colab_link": true
    },
    "kernelspec": {
      "name": "python3",
      "display_name": "Python 3"
    },
    "language_info": {
      "name": "python"
    }
  },
  "cells": [
    {
      "cell_type": "markdown",
      "metadata": {
        "id": "view-in-github",
        "colab_type": "text"
      },
      "source": [
        "<a href=\"https://colab.research.google.com/github/eymatsuda2016/clientes/blob/master/Exerc%C3%ADcio_Aula_177.ipynb\" target=\"_parent\"><img src=\"https://colab.research.google.com/assets/colab-badge.svg\" alt=\"Open In Colab\"/></a>"
      ]
    },
    {
      "cell_type": "markdown",
      "source": [
        "**Leitura de 5 numeros Inteiro**"
      ],
      "metadata": {
        "id": "z43JKLsL3MSz"
      }
    },
    {
      "cell_type": "code",
      "source": [
        "lista = []\n",
        "for _ in range (1, 6):\n",
        "  valor = int(input('Digite um valor:'))\n",
        "  lista.append(valor)"
      ],
      "metadata": {
        "colab": {
          "base_uri": "https://localhost:8080/"
        },
        "id": "cZ4awaEj31e5",
        "outputId": "6bf8a147-f7a1-4f46-b06a-86c91ee23d06"
      },
      "execution_count": 3,
      "outputs": [
        {
          "name": "stdout",
          "output_type": "stream",
          "text": [
            "Digite um valor:1\n",
            "Digite um valor:2\n",
            "Digite um valor:3\n",
            "Digite um valor:4\n",
            "Digite um valor:5\n"
          ]
        }
      ]
    },
    {
      "cell_type": "code",
      "source": [
        "lista"
      ],
      "metadata": {
        "colab": {
          "base_uri": "https://localhost:8080/"
        },
        "id": "ZAWneugb5bRq",
        "outputId": "c417e669-cd70-4c2d-a46e-f187a233e144"
      },
      "execution_count": 4,
      "outputs": [
        {
          "output_type": "execute_result",
          "data": {
            "text/plain": [
              "[1, 2, 3, 4, 5]"
            ]
          },
          "metadata": {},
          "execution_count": 4
        }
      ]
    },
    {
      "cell_type": "code",
      "source": [
        "soma = 0\n",
        "for i in range (len(lista)):\n",
        "  print (lista[i])\n",
        "  soma += lista[i]\n",
        "  print('Soma : ', soma)"
      ],
      "metadata": {
        "colab": {
          "base_uri": "https://localhost:8080/"
        },
        "id": "TpU3ZPnp5hNS",
        "outputId": "fed6661d-f079-4406-bbe8-e95ee214cc3e"
      },
      "execution_count": 6,
      "outputs": [
        {
          "output_type": "stream",
          "name": "stdout",
          "text": [
            "1\n",
            "Soma :  1\n",
            "2\n",
            "Soma :  3\n",
            "3\n",
            "Soma :  6\n",
            "4\n",
            "Soma :  10\n",
            "5\n",
            "Soma :  15\n"
          ]
        }
      ]
    },
    {
      "cell_type": "code",
      "source": [
        "import numpy as np\n",
        "np.array(lista).sum()\n"
      ],
      "metadata": {
        "colab": {
          "base_uri": "https://localhost:8080/"
        },
        "id": "_n3FcOju6cbn",
        "outputId": "3379454a-7d89-427e-d813-54746420ac03"
      },
      "execution_count": 8,
      "outputs": [
        {
          "output_type": "execute_result",
          "data": {
            "text/plain": [
              "15"
            ]
          },
          "metadata": {},
          "execution_count": 8
        }
      ]
    },
    {
      "cell_type": "markdown",
      "source": [
        "**Execício 2 - dicionários**"
      ],
      "metadata": {
        "id": "MTYs8mU161XB"
      }
    },
    {
      "cell_type": "code",
      "source": [
        "alunos = {}\n",
        "for _ in range (1, 4):\n",
        "  nome = input('Digite o nome do aluno: ')\n",
        "  nota = float(input('Digite a nota do aluno: '))\n",
        "  alunos[nome] = nota"
      ],
      "metadata": {
        "colab": {
          "base_uri": "https://localhost:8080/"
        },
        "id": "oJQM_0H46_mG",
        "outputId": "1561fc6a-b8f3-450b-8c63-ca5009f3cfe0"
      },
      "execution_count": 13,
      "outputs": [
        {
          "name": "stdout",
          "output_type": "stream",
          "text": [
            "Digite o nome do aluno: Pedro\n",
            "Digite a nota do aluno: 7\n",
            "Digite o nome do aluno: João\n",
            "Digite a nota do aluno: 8\n",
            "Digite o nome do aluno: Maria\n",
            "Digite a nota do aluno: 10\n"
          ]
        }
      ]
    },
    {
      "cell_type": "code",
      "source": [
        "alunos"
      ],
      "metadata": {
        "colab": {
          "base_uri": "https://localhost:8080/"
        },
        "id": "nb_0se847vxa",
        "outputId": "d89d9ef2-4d88-4a79-e2eb-87f4b17141d1"
      },
      "execution_count": 14,
      "outputs": [
        {
          "output_type": "execute_result",
          "data": {
            "text/plain": [
              "{'Pedro': 7.0, 'João': 8.0, 'Maria': 10.0}"
            ]
          },
          "metadata": {},
          "execution_count": 14
        }
      ]
    },
    {
      "cell_type": "code",
      "source": [
        "alunos['João']"
      ],
      "metadata": {
        "colab": {
          "base_uri": "https://localhost:8080/"
        },
        "id": "rIpl2wfm8Ats",
        "outputId": "fd6525f6-d383-44db-ab9e-aeb6d6b2e3ab"
      },
      "execution_count": 15,
      "outputs": [
        {
          "output_type": "execute_result",
          "data": {
            "text/plain": [
              "8.0"
            ]
          },
          "metadata": {},
          "execution_count": 15
        }
      ]
    },
    {
      "cell_type": "code",
      "source": [
        "alunos.values()"
      ],
      "metadata": {
        "colab": {
          "base_uri": "https://localhost:8080/"
        },
        "id": "tTskUK1p8D_j",
        "outputId": "304250fc-6cef-4f48-9574-010d1b55971d"
      },
      "execution_count": 16,
      "outputs": [
        {
          "output_type": "execute_result",
          "data": {
            "text/plain": [
              "dict_values([7.0, 8.0, 10.0])"
            ]
          },
          "metadata": {},
          "execution_count": 16
        }
      ]
    },
    {
      "cell_type": "code",
      "source": [
        "soma = 0\n",
        "for nota in alunos.values():\n",
        "  #print(nota)\n",
        "  soma += nota\n",
        "  print ('Média: ', soma / 3)"
      ],
      "metadata": {
        "colab": {
          "base_uri": "https://localhost:8080/"
        },
        "id": "mxbgZ_mc8-2N",
        "outputId": "e69e2f6c-ede2-4062-b91d-e887556321b5"
      },
      "execution_count": 19,
      "outputs": [
        {
          "output_type": "stream",
          "name": "stdout",
          "text": [
            "Média:  2.3333333333333335\n",
            "Média:  5.0\n",
            "Média:  8.333333333333334\n"
          ]
        }
      ]
    },
    {
      "cell_type": "markdown",
      "source": [
        "**Exercío 3 - Matriz**"
      ],
      "metadata": {
        "id": "aXlZwCqF_MKe"
      }
    },
    {
      "cell_type": "code",
      "source": [
        "matriz = np.array([[3, 4, 1],\n",
        "                   [3, 1, 5]])"
      ],
      "metadata": {
        "id": "OZXorCeG_USF"
      },
      "execution_count": 20,
      "outputs": []
    },
    {
      "cell_type": "code",
      "source": [
        "matriz"
      ],
      "metadata": {
        "colab": {
          "base_uri": "https://localhost:8080/"
        },
        "id": "fLB88bjO_q7h",
        "outputId": "6de43d22-9a42-4bc9-a6d6-bfea0384b65b"
      },
      "execution_count": 21,
      "outputs": [
        {
          "output_type": "execute_result",
          "data": {
            "text/plain": [
              "array([[3, 4, 1],\n",
              "       [3, 1, 5]])"
            ]
          },
          "metadata": {},
          "execution_count": 21
        }
      ]
    },
    {
      "cell_type": "code",
      "source": [
        "matriz.shape"
      ],
      "metadata": {
        "colab": {
          "base_uri": "https://localhost:8080/"
        },
        "id": "8m2QQjAg_vAk",
        "outputId": "0e3c7f45-0c4f-4c01-e8a0-7f680df88492"
      },
      "execution_count": 22,
      "outputs": [
        {
          "output_type": "execute_result",
          "data": {
            "text/plain": [
              "(2, 3)"
            ]
          },
          "metadata": {},
          "execution_count": 22
        }
      ]
    },
    {
      "cell_type": "code",
      "source": [
        "soma = 0\n",
        "for i in range(matriz.shape[0]):\n",
        "  for j in range(matriz.shape[1]):\n",
        "    soma += matriz[i] [j]\n",
        "print ('Soma: ', soma)"
      ],
      "metadata": {
        "colab": {
          "base_uri": "https://localhost:8080/"
        },
        "id": "zykree7m_zsS",
        "outputId": "f39b3b0c-0ae4-4cbf-e046-6c64cb2aa043"
      },
      "execution_count": 26,
      "outputs": [
        {
          "output_type": "stream",
          "name": "stdout",
          "text": [
            "Soma:  17\n"
          ]
        }
      ]
    }
  ]
}